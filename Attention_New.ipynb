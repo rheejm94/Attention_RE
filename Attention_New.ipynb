{
  "nbformat": 4,
  "nbformat_minor": 0,
  "metadata": {
    "colab": {
      "provenance": [],
      "collapsed_sections": []
    },
    "kernelspec": {
      "name": "python3",
      "display_name": "Python 3"
    },
    "language_info": {
      "name": "python"
    },
    "accelerator": "GPU"
  },
  "cells": [
    {
      "cell_type": "markdown",
      "source": [
        "# 주의사항\n",
        "\n",
        "1. 코랩 환경에서 진행되었기 때문에 코랩이 아니라면 실행이 불가할 수 있습니다.\n",
        "2. 조금 더 자세한 설명은 구글 문서로 요약해놓았습니다.\n",
        "   https://docs.google.com/document/d/1mpOUh3rG-pQ3uOUP9lIGHcF10pA13GlYnqW3_OBv4TE/edit?usp=sharing"
      ],
      "metadata": {
        "id": "qjUAe7cDFPod"
      }
    },
    {
      "cell_type": "markdown",
      "source": [
        "# 필요한 패키지 설치 및 import"
      ],
      "metadata": {
        "id": "UXmmHInUkrmc"
      }
    },
    {
      "cell_type": "code",
      "source": [
        "!pip install torchtext==0.10.01 #버전이 이와 동일해야 에러가 나지 않음"
      ],
      "metadata": {
        "colab": {
          "base_uri": "https://localhost:8080/"
        },
        "id": "bvv27UFOnSzN",
        "outputId": "d5b77811-738e-4547-8d60-67ab7adfc24e"
      },
      "execution_count": 1,
      "outputs": [
        {
          "output_type": "stream",
          "name": "stdout",
          "text": [
            "Looking in indexes: https://pypi.org/simple, https://us-python.pkg.dev/colab-wheels/public/simple/\n",
            "Collecting torchtext==0.10.01\n",
            "  Downloading torchtext-0.10.1-cp37-cp37m-manylinux1_x86_64.whl (7.6 MB)\n",
            "\u001b[K     |████████████████████████████████| 7.6 MB 28.6 MB/s \n",
            "\u001b[?25hRequirement already satisfied: requests in /usr/local/lib/python3.7/dist-packages (from torchtext==0.10.01) (2.23.0)\n",
            "Requirement already satisfied: tqdm in /usr/local/lib/python3.7/dist-packages (from torchtext==0.10.01) (4.64.1)\n",
            "Requirement already satisfied: numpy in /usr/local/lib/python3.7/dist-packages (from torchtext==0.10.01) (1.21.6)\n",
            "Collecting torch==1.9.1\n",
            "  Downloading torch-1.9.1-cp37-cp37m-manylinux1_x86_64.whl (831.4 MB)\n",
            "\u001b[K     |████████████████████████████████| 831.4 MB 6.6 kB/s \n",
            "\u001b[?25hRequirement already satisfied: typing-extensions in /usr/local/lib/python3.7/dist-packages (from torch==1.9.1->torchtext==0.10.01) (4.1.1)\n",
            "Requirement already satisfied: certifi>=2017.4.17 in /usr/local/lib/python3.7/dist-packages (from requests->torchtext==0.10.01) (2022.9.24)\n",
            "Requirement already satisfied: chardet<4,>=3.0.2 in /usr/local/lib/python3.7/dist-packages (from requests->torchtext==0.10.01) (3.0.4)\n",
            "Requirement already satisfied: urllib3!=1.25.0,!=1.25.1,<1.26,>=1.21.1 in /usr/local/lib/python3.7/dist-packages (from requests->torchtext==0.10.01) (1.24.3)\n",
            "Requirement already satisfied: idna<3,>=2.5 in /usr/local/lib/python3.7/dist-packages (from requests->torchtext==0.10.01) (2.10)\n",
            "Installing collected packages: torch, torchtext\n",
            "  Attempting uninstall: torch\n",
            "    Found existing installation: torch 1.12.1+cu113\n",
            "    Uninstalling torch-1.12.1+cu113:\n",
            "      Successfully uninstalled torch-1.12.1+cu113\n",
            "  Attempting uninstall: torchtext\n",
            "    Found existing installation: torchtext 0.13.1\n",
            "    Uninstalling torchtext-0.13.1:\n",
            "      Successfully uninstalled torchtext-0.13.1\n",
            "\u001b[31mERROR: pip's dependency resolver does not currently take into account all the packages that are installed. This behaviour is the source of the following dependency conflicts.\n",
            "torchvision 0.13.1+cu113 requires torch==1.12.1, but you have torch 1.9.1 which is incompatible.\n",
            "torchaudio 0.12.1+cu113 requires torch==1.12.1, but you have torch 1.9.1 which is incompatible.\u001b[0m\n",
            "Successfully installed torch-1.9.1 torchtext-0.10.1\n"
          ]
        }
      ]
    },
    {
      "cell_type": "code",
      "execution_count": 2,
      "metadata": {
        "id": "b1JTzTD5b0bH"
      },
      "outputs": [],
      "source": [
        "import torch\n",
        "import torch.nn as nn\n",
        "import torch.optim as optim\n",
        "import torch.nn.functional as F\n",
        "\n",
        "from torchtext.legacy.datasets import Multi30k\n",
        "from torchtext.legacy.data import Field, BucketIterator\n",
        "\n",
        "import spacy\n",
        "import numpy as np\n",
        "\n",
        "import random\n",
        "import math\n",
        "import time"
      ]
    },
    {
      "cell_type": "markdown",
      "source": [
        "# 재현을 위해 랜덤 시드를 설정"
      ],
      "metadata": {
        "id": "ENT76RHDnoAr"
      }
    },
    {
      "cell_type": "code",
      "source": [
        "SEED = 1234\n",
        "\n",
        "random.seed(SEED)\n",
        "np.random.seed(SEED)\n",
        "torch.manual_seed(SEED)\n",
        "torch.cuda.manual_seed(SEED)\n",
        "torch.backends.cudnn.deterministic = True"
      ],
      "metadata": {
        "id": "DIpUoQgxcFfe"
      },
      "execution_count": 3,
      "outputs": []
    },
    {
      "cell_type": "markdown",
      "source": [
        "# 데이터 로딩"
      ],
      "metadata": {
        "id": "NYx3kqZCnz4k"
      }
    },
    {
      "cell_type": "code",
      "source": [
        "!python3 -m spacy download de_core_news_sm\n",
        "!python3 -m spacy download en_core_web_sm\n",
        "import en_core_web_sm, de_core_news_sm\n",
        "spacy_en = en_core_web_sm.load()\n",
        "spacy_de = de_core_news_sm.load()"
      ],
      "metadata": {
        "colab": {
          "base_uri": "https://localhost:8080/"
        },
        "id": "339husbic1Lt",
        "outputId": "4edeafcb-a9f6-47c8-b2c8-f00f87424a2e"
      },
      "execution_count": 4,
      "outputs": [
        {
          "output_type": "stream",
          "name": "stdout",
          "text": [
            "Looking in indexes: https://pypi.org/simple, https://us-python.pkg.dev/colab-wheels/public/simple/\n",
            "Collecting de-core-news-sm==3.4.0\n",
            "  Downloading https://github.com/explosion/spacy-models/releases/download/de_core_news_sm-3.4.0/de_core_news_sm-3.4.0-py3-none-any.whl (14.6 MB)\n",
            "\u001b[K     |████████████████████████████████| 14.6 MB 28.3 MB/s \n",
            "\u001b[?25hRequirement already satisfied: spacy<3.5.0,>=3.4.0 in /usr/local/lib/python3.7/dist-packages (from de-core-news-sm==3.4.0) (3.4.1)\n",
            "Requirement already satisfied: cymem<2.1.0,>=2.0.2 in /usr/local/lib/python3.7/dist-packages (from spacy<3.5.0,>=3.4.0->de-core-news-sm==3.4.0) (2.0.6)\n",
            "Requirement already satisfied: wasabi<1.1.0,>=0.9.1 in /usr/local/lib/python3.7/dist-packages (from spacy<3.5.0,>=3.4.0->de-core-news-sm==3.4.0) (0.10.1)\n",
            "Requirement already satisfied: jinja2 in /usr/local/lib/python3.7/dist-packages (from spacy<3.5.0,>=3.4.0->de-core-news-sm==3.4.0) (2.11.3)\n",
            "Requirement already satisfied: langcodes<4.0.0,>=3.2.0 in /usr/local/lib/python3.7/dist-packages (from spacy<3.5.0,>=3.4.0->de-core-news-sm==3.4.0) (3.3.0)\n",
            "Requirement already satisfied: packaging>=20.0 in /usr/local/lib/python3.7/dist-packages (from spacy<3.5.0,>=3.4.0->de-core-news-sm==3.4.0) (21.3)\n",
            "Requirement already satisfied: preshed<3.1.0,>=3.0.2 in /usr/local/lib/python3.7/dist-packages (from spacy<3.5.0,>=3.4.0->de-core-news-sm==3.4.0) (3.0.7)\n",
            "Requirement already satisfied: tqdm<5.0.0,>=4.38.0 in /usr/local/lib/python3.7/dist-packages (from spacy<3.5.0,>=3.4.0->de-core-news-sm==3.4.0) (4.64.1)\n",
            "Requirement already satisfied: catalogue<2.1.0,>=2.0.6 in /usr/local/lib/python3.7/dist-packages (from spacy<3.5.0,>=3.4.0->de-core-news-sm==3.4.0) (2.0.8)\n",
            "Requirement already satisfied: murmurhash<1.1.0,>=0.28.0 in /usr/local/lib/python3.7/dist-packages (from spacy<3.5.0,>=3.4.0->de-core-news-sm==3.4.0) (1.0.8)\n",
            "Requirement already satisfied: numpy>=1.15.0 in /usr/local/lib/python3.7/dist-packages (from spacy<3.5.0,>=3.4.0->de-core-news-sm==3.4.0) (1.21.6)\n",
            "Requirement already satisfied: spacy-legacy<3.1.0,>=3.0.9 in /usr/local/lib/python3.7/dist-packages (from spacy<3.5.0,>=3.4.0->de-core-news-sm==3.4.0) (3.0.10)\n",
            "Requirement already satisfied: setuptools in /usr/local/lib/python3.7/dist-packages (from spacy<3.5.0,>=3.4.0->de-core-news-sm==3.4.0) (57.4.0)\n",
            "Requirement already satisfied: requests<3.0.0,>=2.13.0 in /usr/local/lib/python3.7/dist-packages (from spacy<3.5.0,>=3.4.0->de-core-news-sm==3.4.0) (2.23.0)\n",
            "Requirement already satisfied: typing-extensions<4.2.0,>=3.7.4 in /usr/local/lib/python3.7/dist-packages (from spacy<3.5.0,>=3.4.0->de-core-news-sm==3.4.0) (4.1.1)\n",
            "Requirement already satisfied: typer<0.5.0,>=0.3.0 in /usr/local/lib/python3.7/dist-packages (from spacy<3.5.0,>=3.4.0->de-core-news-sm==3.4.0) (0.4.2)\n",
            "Requirement already satisfied: srsly<3.0.0,>=2.4.3 in /usr/local/lib/python3.7/dist-packages (from spacy<3.5.0,>=3.4.0->de-core-news-sm==3.4.0) (2.4.4)\n",
            "Requirement already satisfied: pydantic!=1.8,!=1.8.1,<1.10.0,>=1.7.4 in /usr/local/lib/python3.7/dist-packages (from spacy<3.5.0,>=3.4.0->de-core-news-sm==3.4.0) (1.9.2)\n",
            "Requirement already satisfied: spacy-loggers<2.0.0,>=1.0.0 in /usr/local/lib/python3.7/dist-packages (from spacy<3.5.0,>=3.4.0->de-core-news-sm==3.4.0) (1.0.3)\n",
            "Requirement already satisfied: thinc<8.2.0,>=8.1.0 in /usr/local/lib/python3.7/dist-packages (from spacy<3.5.0,>=3.4.0->de-core-news-sm==3.4.0) (8.1.2)\n",
            "Requirement already satisfied: pathy>=0.3.5 in /usr/local/lib/python3.7/dist-packages (from spacy<3.5.0,>=3.4.0->de-core-news-sm==3.4.0) (0.6.2)\n",
            "Requirement already satisfied: zipp>=0.5 in /usr/local/lib/python3.7/dist-packages (from catalogue<2.1.0,>=2.0.6->spacy<3.5.0,>=3.4.0->de-core-news-sm==3.4.0) (3.8.1)\n",
            "Requirement already satisfied: pyparsing!=3.0.5,>=2.0.2 in /usr/local/lib/python3.7/dist-packages (from packaging>=20.0->spacy<3.5.0,>=3.4.0->de-core-news-sm==3.4.0) (3.0.9)\n",
            "Requirement already satisfied: smart-open<6.0.0,>=5.2.1 in /usr/local/lib/python3.7/dist-packages (from pathy>=0.3.5->spacy<3.5.0,>=3.4.0->de-core-news-sm==3.4.0) (5.2.1)\n",
            "Requirement already satisfied: urllib3!=1.25.0,!=1.25.1,<1.26,>=1.21.1 in /usr/local/lib/python3.7/dist-packages (from requests<3.0.0,>=2.13.0->spacy<3.5.0,>=3.4.0->de-core-news-sm==3.4.0) (1.24.3)\n",
            "Requirement already satisfied: idna<3,>=2.5 in /usr/local/lib/python3.7/dist-packages (from requests<3.0.0,>=2.13.0->spacy<3.5.0,>=3.4.0->de-core-news-sm==3.4.0) (2.10)\n",
            "Requirement already satisfied: certifi>=2017.4.17 in /usr/local/lib/python3.7/dist-packages (from requests<3.0.0,>=2.13.0->spacy<3.5.0,>=3.4.0->de-core-news-sm==3.4.0) (2022.9.24)\n",
            "Requirement already satisfied: chardet<4,>=3.0.2 in /usr/local/lib/python3.7/dist-packages (from requests<3.0.0,>=2.13.0->spacy<3.5.0,>=3.4.0->de-core-news-sm==3.4.0) (3.0.4)\n",
            "Requirement already satisfied: confection<1.0.0,>=0.0.1 in /usr/local/lib/python3.7/dist-packages (from thinc<8.2.0,>=8.1.0->spacy<3.5.0,>=3.4.0->de-core-news-sm==3.4.0) (0.0.2)\n",
            "Requirement already satisfied: blis<0.8.0,>=0.7.8 in /usr/local/lib/python3.7/dist-packages (from thinc<8.2.0,>=8.1.0->spacy<3.5.0,>=3.4.0->de-core-news-sm==3.4.0) (0.7.8)\n",
            "Requirement already satisfied: click<9.0.0,>=7.1.1 in /usr/local/lib/python3.7/dist-packages (from typer<0.5.0,>=0.3.0->spacy<3.5.0,>=3.4.0->de-core-news-sm==3.4.0) (7.1.2)\n",
            "Requirement already satisfied: MarkupSafe>=0.23 in /usr/local/lib/python3.7/dist-packages (from jinja2->spacy<3.5.0,>=3.4.0->de-core-news-sm==3.4.0) (2.0.1)\n",
            "Installing collected packages: de-core-news-sm\n",
            "Successfully installed de-core-news-sm-3.4.0\n",
            "\u001b[38;5;2m✔ Download and installation successful\u001b[0m\n",
            "You can now load the package via spacy.load('de_core_news_sm')\n",
            "Looking in indexes: https://pypi.org/simple, https://us-python.pkg.dev/colab-wheels/public/simple/\n",
            "Collecting en-core-web-sm==3.4.0\n",
            "  Downloading https://github.com/explosion/spacy-models/releases/download/en_core_web_sm-3.4.0/en_core_web_sm-3.4.0-py3-none-any.whl (12.8 MB)\n",
            "\u001b[K     |████████████████████████████████| 12.8 MB 33.8 MB/s \n",
            "\u001b[?25hRequirement already satisfied: spacy<3.5.0,>=3.4.0 in /usr/local/lib/python3.7/dist-packages (from en-core-web-sm==3.4.0) (3.4.1)\n",
            "Requirement already satisfied: srsly<3.0.0,>=2.4.3 in /usr/local/lib/python3.7/dist-packages (from spacy<3.5.0,>=3.4.0->en-core-web-sm==3.4.0) (2.4.4)\n",
            "Requirement already satisfied: spacy-legacy<3.1.0,>=3.0.9 in /usr/local/lib/python3.7/dist-packages (from spacy<3.5.0,>=3.4.0->en-core-web-sm==3.4.0) (3.0.10)\n",
            "Requirement already satisfied: pathy>=0.3.5 in /usr/local/lib/python3.7/dist-packages (from spacy<3.5.0,>=3.4.0->en-core-web-sm==3.4.0) (0.6.2)\n",
            "Requirement already satisfied: packaging>=20.0 in /usr/local/lib/python3.7/dist-packages (from spacy<3.5.0,>=3.4.0->en-core-web-sm==3.4.0) (21.3)\n",
            "Requirement already satisfied: cymem<2.1.0,>=2.0.2 in /usr/local/lib/python3.7/dist-packages (from spacy<3.5.0,>=3.4.0->en-core-web-sm==3.4.0) (2.0.6)\n",
            "Requirement already satisfied: thinc<8.2.0,>=8.1.0 in /usr/local/lib/python3.7/dist-packages (from spacy<3.5.0,>=3.4.0->en-core-web-sm==3.4.0) (8.1.2)\n",
            "Requirement already satisfied: pydantic!=1.8,!=1.8.1,<1.10.0,>=1.7.4 in /usr/local/lib/python3.7/dist-packages (from spacy<3.5.0,>=3.4.0->en-core-web-sm==3.4.0) (1.9.2)\n",
            "Requirement already satisfied: jinja2 in /usr/local/lib/python3.7/dist-packages (from spacy<3.5.0,>=3.4.0->en-core-web-sm==3.4.0) (2.11.3)\n",
            "Requirement already satisfied: typer<0.5.0,>=0.3.0 in /usr/local/lib/python3.7/dist-packages (from spacy<3.5.0,>=3.4.0->en-core-web-sm==3.4.0) (0.4.2)\n",
            "Requirement already satisfied: langcodes<4.0.0,>=3.2.0 in /usr/local/lib/python3.7/dist-packages (from spacy<3.5.0,>=3.4.0->en-core-web-sm==3.4.0) (3.3.0)\n",
            "Requirement already satisfied: requests<3.0.0,>=2.13.0 in /usr/local/lib/python3.7/dist-packages (from spacy<3.5.0,>=3.4.0->en-core-web-sm==3.4.0) (2.23.0)\n",
            "Requirement already satisfied: tqdm<5.0.0,>=4.38.0 in /usr/local/lib/python3.7/dist-packages (from spacy<3.5.0,>=3.4.0->en-core-web-sm==3.4.0) (4.64.1)\n",
            "Requirement already satisfied: preshed<3.1.0,>=3.0.2 in /usr/local/lib/python3.7/dist-packages (from spacy<3.5.0,>=3.4.0->en-core-web-sm==3.4.0) (3.0.7)\n",
            "Requirement already satisfied: numpy>=1.15.0 in /usr/local/lib/python3.7/dist-packages (from spacy<3.5.0,>=3.4.0->en-core-web-sm==3.4.0) (1.21.6)\n",
            "Requirement already satisfied: wasabi<1.1.0,>=0.9.1 in /usr/local/lib/python3.7/dist-packages (from spacy<3.5.0,>=3.4.0->en-core-web-sm==3.4.0) (0.10.1)\n",
            "Requirement already satisfied: setuptools in /usr/local/lib/python3.7/dist-packages (from spacy<3.5.0,>=3.4.0->en-core-web-sm==3.4.0) (57.4.0)\n",
            "Requirement already satisfied: catalogue<2.1.0,>=2.0.6 in /usr/local/lib/python3.7/dist-packages (from spacy<3.5.0,>=3.4.0->en-core-web-sm==3.4.0) (2.0.8)\n",
            "Requirement already satisfied: murmurhash<1.1.0,>=0.28.0 in /usr/local/lib/python3.7/dist-packages (from spacy<3.5.0,>=3.4.0->en-core-web-sm==3.4.0) (1.0.8)\n",
            "Requirement already satisfied: typing-extensions<4.2.0,>=3.7.4 in /usr/local/lib/python3.7/dist-packages (from spacy<3.5.0,>=3.4.0->en-core-web-sm==3.4.0) (4.1.1)\n",
            "Requirement already satisfied: spacy-loggers<2.0.0,>=1.0.0 in /usr/local/lib/python3.7/dist-packages (from spacy<3.5.0,>=3.4.0->en-core-web-sm==3.4.0) (1.0.3)\n",
            "Requirement already satisfied: zipp>=0.5 in /usr/local/lib/python3.7/dist-packages (from catalogue<2.1.0,>=2.0.6->spacy<3.5.0,>=3.4.0->en-core-web-sm==3.4.0) (3.8.1)\n",
            "Requirement already satisfied: pyparsing!=3.0.5,>=2.0.2 in /usr/local/lib/python3.7/dist-packages (from packaging>=20.0->spacy<3.5.0,>=3.4.0->en-core-web-sm==3.4.0) (3.0.9)\n",
            "Requirement already satisfied: smart-open<6.0.0,>=5.2.1 in /usr/local/lib/python3.7/dist-packages (from pathy>=0.3.5->spacy<3.5.0,>=3.4.0->en-core-web-sm==3.4.0) (5.2.1)\n",
            "Requirement already satisfied: certifi>=2017.4.17 in /usr/local/lib/python3.7/dist-packages (from requests<3.0.0,>=2.13.0->spacy<3.5.0,>=3.4.0->en-core-web-sm==3.4.0) (2022.9.24)\n",
            "Requirement already satisfied: urllib3!=1.25.0,!=1.25.1,<1.26,>=1.21.1 in /usr/local/lib/python3.7/dist-packages (from requests<3.0.0,>=2.13.0->spacy<3.5.0,>=3.4.0->en-core-web-sm==3.4.0) (1.24.3)\n",
            "Requirement already satisfied: chardet<4,>=3.0.2 in /usr/local/lib/python3.7/dist-packages (from requests<3.0.0,>=2.13.0->spacy<3.5.0,>=3.4.0->en-core-web-sm==3.4.0) (3.0.4)\n",
            "Requirement already satisfied: idna<3,>=2.5 in /usr/local/lib/python3.7/dist-packages (from requests<3.0.0,>=2.13.0->spacy<3.5.0,>=3.4.0->en-core-web-sm==3.4.0) (2.10)\n",
            "Requirement already satisfied: confection<1.0.0,>=0.0.1 in /usr/local/lib/python3.7/dist-packages (from thinc<8.2.0,>=8.1.0->spacy<3.5.0,>=3.4.0->en-core-web-sm==3.4.0) (0.0.2)\n",
            "Requirement already satisfied: blis<0.8.0,>=0.7.8 in /usr/local/lib/python3.7/dist-packages (from thinc<8.2.0,>=8.1.0->spacy<3.5.0,>=3.4.0->en-core-web-sm==3.4.0) (0.7.8)\n",
            "Requirement already satisfied: click<9.0.0,>=7.1.1 in /usr/local/lib/python3.7/dist-packages (from typer<0.5.0,>=0.3.0->spacy<3.5.0,>=3.4.0->en-core-web-sm==3.4.0) (7.1.2)\n",
            "Requirement already satisfied: MarkupSafe>=0.23 in /usr/local/lib/python3.7/dist-packages (from jinja2->spacy<3.5.0,>=3.4.0->en-core-web-sm==3.4.0) (2.0.1)\n",
            "\u001b[38;5;2m✔ Download and installation successful\u001b[0m\n",
            "You can now load the package via spacy.load('en_core_web_sm')\n"
          ]
        }
      ]
    },
    {
      "cell_type": "markdown",
      "source": [
        "# Tokenizer 정의"
      ],
      "metadata": {
        "id": "KIYDrULmn8Ns"
      }
    },
    {
      "cell_type": "code",
      "source": [
        "def tokenize_de(text):\n",
        "    \"\"\"\n",
        "    Tokenizes German text from a string into a list of strings\n",
        "    \"\"\"\n",
        "    return [tok.text for tok in spacy_de.tokenizer(text)]\n",
        "\n",
        "def tokenize_en(text):\n",
        "    \"\"\"\n",
        "    Tokenizes English text from a string into a list of strings\n",
        "    \"\"\"\n",
        "    return [tok.text for tok in spacy_en.tokenizer(text)]"
      ],
      "metadata": {
        "id": "bz3cM1Qqc3ZG"
      },
      "execution_count": 5,
      "outputs": []
    },
    {
      "cell_type": "markdown",
      "source": [
        "# 입력되는 벡터 생성\n",
        "![image.png](data:image/png;base64,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)\n",
        "\n",
        "프로젝트 1에 명시된 바와 같이 각 입력 문장을 토크나이징을 진행해 나온 벡터의 첫부분에 sos, 끝부분에 eos를 넣어 입력형식을 맞춥니다."
      ],
      "metadata": {
        "id": "XrGA2rAaoObX"
      }
    },
    {
      "cell_type": "code",
      "source": [
        "SRC = Field(tokenize = tokenize_de, \n",
        "            init_token = '<sos>', \n",
        "            eos_token = '<eos>', \n",
        "            lower = True)\n",
        "\n",
        "TRG = Field(tokenize = tokenize_en, \n",
        "            init_token = '<sos>', \n",
        "            eos_token = '<eos>', \n",
        "            lower = True)"
      ],
      "metadata": {
        "id": "WzZKJ-lyek5u"
      },
      "execution_count": 6,
      "outputs": []
    },
    {
      "cell_type": "markdown",
      "source": [
        "# Data split"
      ],
      "metadata": {
        "id": "q2oPm0DJoXvL"
      }
    },
    {
      "cell_type": "code",
      "source": [
        "train_data, valid_data, test_data = Multi30k.splits(exts = ('.de', '.en'), \n",
        "                                                    fields = (SRC, TRG))"
      ],
      "metadata": {
        "colab": {
          "base_uri": "https://localhost:8080/"
        },
        "id": "5qW4-7qlencu",
        "outputId": "7e758975-d625-4649-aaaf-3dbfae0b50c4"
      },
      "execution_count": 7,
      "outputs": [
        {
          "output_type": "stream",
          "name": "stdout",
          "text": [
            "downloading training.tar.gz\n"
          ]
        },
        {
          "output_type": "stream",
          "name": "stderr",
          "text": [
            "training.tar.gz: 100%|██████████| 1.21M/1.21M [00:01<00:00, 981kB/s]\n"
          ]
        },
        {
          "output_type": "stream",
          "name": "stdout",
          "text": [
            "downloading validation.tar.gz\n"
          ]
        },
        {
          "output_type": "stream",
          "name": "stderr",
          "text": [
            "validation.tar.gz: 100%|██████████| 46.3k/46.3k [00:00<00:00, 278kB/s]\n"
          ]
        },
        {
          "output_type": "stream",
          "name": "stdout",
          "text": [
            "downloading mmt_task1_test2016.tar.gz\n"
          ]
        },
        {
          "output_type": "stream",
          "name": "stderr",
          "text": [
            "mmt_task1_test2016.tar.gz: 100%|██████████| 66.2k/66.2k [00:00<00:00, 270kB/s]\n"
          ]
        }
      ]
    },
    {
      "cell_type": "markdown",
      "source": [
        "# Vovabulary"
      ],
      "metadata": {
        "id": "C33OsrSBoenh"
      }
    },
    {
      "cell_type": "code",
      "source": [
        "SRC.build_vocab(train_data, min_freq = 2)\n",
        "TRG.build_vocab(train_data, min_freq = 2)"
      ],
      "metadata": {
        "id": "TuCUFGbmepZu"
      },
      "execution_count": 8,
      "outputs": []
    },
    {
      "cell_type": "markdown",
      "source": [
        "# GPU 사용을 위해 필요한 코드"
      ],
      "metadata": {
        "id": "eTU7PotEokZH"
      }
    },
    {
      "cell_type": "code",
      "source": [
        "device = torch.device('cuda' if torch.cuda.is_available() else 'cpu')"
      ],
      "metadata": {
        "id": "k2Bj-nETetcm"
      },
      "execution_count": 9,
      "outputs": []
    },
    {
      "cell_type": "markdown",
      "source": [
        "# iterator 설정\n"
      ],
      "metadata": {
        "id": "qcsNuh7zosxJ"
      }
    },
    {
      "cell_type": "code",
      "source": [
        "BATCH_SIZE = 128\n",
        "\n",
        "train_iterator, valid_iterator, test_iterator = BucketIterator.splits(\n",
        "    (train_data, valid_data, test_data), \n",
        "    batch_size = BATCH_SIZE,\n",
        "    device = device)"
      ],
      "metadata": {
        "id": "tvoGkeUxewwm"
      },
      "execution_count": 10,
      "outputs": []
    },
    {
      "cell_type": "markdown",
      "source": [
        "# 인코더\n",
        "![image.png](data:image/png;base64,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)\n",
        "\n",
        "INPUT\n",
        "\n",
        "'gutten morgen'이 [ sos, 'gutten', 'morgan', eos ]로 전처리되어 입력되고, sos는 start of sequence, eos는 end of sequence를 의미합니다. 이 벡터는 처음에 embedding층에 들어가게 되면 embedding vector로 변환되고, 이는 GRU층에 전달되게 됩니다.\n",
        "\n",
        "\n",
        "GRU층은 forward와 backward 벡터를 둘 다 만들어 내는데, forward는 일반적인 context vector를 리턴하고 backward는 context vector의 반대방향의 벡터를 리턴합니다.\n",
        "좀 더 자세히 설명하자면, [ sos, guten, morgan, eos] 가 있다고 가정할때\n",
        "1. $\\overrightarrow{x_0}$ = sos\n",
        "2. $\\overleftarrow{x_1}$ = guten\n",
        "3. $\\overleftarrow{x_0}$ = eos\n",
        "4. $\\overleftarrow{x_1}$ = morgen\n",
        "\n",
        "이 되고, 여기서 각 $h_t$를 아래와 같이 계산합니다. 여기서 e는 임베딩하는 함수입니다. 이 부분은 아래 주석에서 체크포인트 (1)에 해당하는 부분입니다. 코드에서는 outputs라는 변수에 이 결과를 받았는데, 이것은 앞으로도 많이 사용될 $H$로, 각 hidden state를 열백터로 배치한 행렬입니다.\n",
        "\n",
        "![image.png](data:image/png;base64,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)\n",
        "\n",
        "\n",
        "밑의 코드상의 체크포인트 (2) 번이 아래 사진과 같은 작업을 수행합니다. \n",
        "\n",
        "![image.png](data:image/png;base64,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)\n",
        "\n",
        "여기서 말하는 g는 linear layer를 뜻하는 것이고, h는 앞서 말한 hidden state, h의 방향은 어느쪽으로 가는 벡터인지를 명시해준 것입니다. 인코더와는 달리 디코더는 양방향이 아니기 때문에 $s_0$으로 전달해줄 단일 context vector가 필요한데, 이는 forward와 backward를 합치는 과정이 필요한데, 이를 코드에서는 두 벡터를 모두 linear layer에 넣으며 구현했습니다. 이에 대한 결과가 함수에서 반환하는 hidden에 대응됩니다.\n"
      ],
      "metadata": {
        "id": "wni6jf83o16d"
      }
    },
    {
      "cell_type": "code",
      "source": [
        "class Encoder(nn.Module):\n",
        "    def __init__(self, input_dim, emb_dim, enc_hid_dim, dec_hid_dim, dropout):\n",
        "        super().__init__()\n",
        "        \n",
        "        self.embedding = nn.Embedding(input_dim, emb_dim)\n",
        "        \n",
        "        self.rnn = nn.GRU(emb_dim, enc_hid_dim, bidirectional = True)\n",
        "        \n",
        "        self.fc = nn.Linear(enc_hid_dim * 2, dec_hid_dim)\n",
        "        \n",
        "        self.dropout = nn.Dropout(dropout)\n",
        "        \n",
        "    def forward(self, src):\n",
        "        \n",
        "        #src = [src len, batch size]\n",
        "        \n",
        "        embedded = self.dropout(self.embedding(src))\n",
        "        \n",
        "        #embedded = [src len, batch size, emb dim]\n",
        "        \n",
        "        outputs, hidden = self.rnn(embedded) #...............................(1)\n",
        "\n",
        "\n",
        "        #outputs = [src len, batch size, hid dim * num directions]\n",
        "        #hidden = [n layers * num directions, batch size, hid dim]\n",
        "        \n",
        "        #hidden is stacked [forward_1, backward_1, forward_2, backward_2, ...]\n",
        "        #outputs are always from the last layer\n",
        "        \n",
        "        #hidden [-2, :, : ] is the last of the forwards RNN \n",
        "        #hidden [-1, :, : ] is the last of the backwards RNN\n",
        "        \n",
        "        #initial decoder hidden is final hidden state of the forwards and backwards \n",
        "        #  encoder RNNs fed through a linear layer\n",
        "        hidden = torch.tanh(self.fc(torch.cat((hidden[-2,:,:], hidden[-1,:,:]), dim = 1))) #.......(2)\n",
        "        #outputs = [src len, batch size, enc hid dim * 2]\n",
        "        #hidden = [batch size, dec hid dim]\n",
        "        \n",
        "        return outputs, hidden"
      ],
      "metadata": {
        "id": "9HT93bdUgG20"
      },
      "execution_count": 11,
      "outputs": []
    },
    {
      "cell_type": "markdown",
      "source": [
        "# Attention\n",
        "\n",
        "입력의 형식은 encoder와 동일하고, 출력은 attention vector입니다.\n",
        "\n",
        "현재 t번째라고 할 때 Encoder에서 구한 forward와 backward 벡터를 모두 쌓아둔 $H$와와 decoder의 이전 hidden state인 $s_{t-1}$을 이용해 attention을 수행합니다.\n",
        "여기서 attention vector를 $a_t$라고 정의하고, 벡터의 각 요소는 0~1 사이의 값을 가지며, 벡터 요소의 총 합은 1입니다.\n",
        "\n",
        "우선, 이전 decoder hidden state와 encoder hidden state 사이의 energy를 계산합니다. t번째 에너지를 $E_t$라고 표현하고 그에 대한 식은 아래와 같습니다.\n",
        "\n",
        "![image.png](data:image/png;base64,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)\n",
        "\n",
        "여기서의 attn은 linear layer입니다. 즉, 식은 linear layer를 거친 값에 tanh를 씌워주므로 activate function은 tanh함수입니다. 이에 대한 계산이 이루어지는 곳이 주석으로 표시된 체크포인트 (1)입니다.\n",
        "\n",
        "지금 가지고 있는 $E_t$가 이루는 행렬 E는 dec hid dim X src len tensor입니다. 여기서, 이것을 단순히 1 X srclen으로 표현하고자, 아래와 같은 과정을 거쳐 최종적으로 도출할 벡터의 원소를 만들기 위한 $\\hat a$를 계산합니다.\n",
        "\n",
        "![image.png](data:image/png;base64,iVBORw0KGgoAAAANSUhEUgAAAFwAAAAeCAYAAAChf3k/AAAAAXNSR0IArs4c6QAAAARnQU1BAACxjwv8YQUAAAAJcEhZcwAADsMAAA7DAcdvqGQAAARjSURBVGhD7ZlRaFtVHMY/ndjhIEMxRcUysgUfdmWQzHUkFHeL4MS1lbka1LWTdQiNq9DRh6bBtgxsWh82oaQOTFfGuula62ZSqAkMEt24edhy99JUZiLO3spKApMb6WhBOZ7ce1LWDUcam7OC9/fQk/85N/Tcr+d83zn0MUKBATceZ60BJwzBOWMIzhlDcM4YgnPGEJwz3ARXJtuxxz0OhdX/V7icw5VL7TgSd8JbLaN3SsDpQDOsG9jgOkOZ9KDrgoxUPI0sqmCvqcJGNoZMCtLPWaBmAD+cddHREsgLXl5miRSKktkFvVKvBUk4vagX65VbY+SgxUIsXWGisi6dRZI4WUcs/RL9VBocLKUKjnoRVU/plemVBuzdVqEX65RcOgmJtqJ9O0x6F6MCgs0OZ+XK3tVghOYDLCF5bZS2Tji3V+pd8xH0ekNa/uT+zOBJk4lKXxpcBM9dH4bnkAe+zz1oafNh+MthhGaW2Cgn7soY+rAd7pbdcE/o0Z0cacTWrW6E5rWSkUbyKm3MNgjaTswhOTUG+fkXkZffXH8KI40lubdG2UMzfzpp/BTo+OozuOgLpM834fVuFR3fTuCorch1Mh/DicEwDbEi2NGMgXcFVhTIIdb9EZJv90O4uActv9PQG3Fh41Q76tricJ3/ER0ONpffxtFU64G0hVpHFY3LBQXSDQXNIz/huLgGVqg5ebm4EyadNHzqTiaWQyYxWE0s1X1EYiGqcStIWsVOEr3D6rXmrxQJn6HBrejzOXwmxeaTIH5LKwne1goN9XIPseSf+XqW9ax8Rr2ZWg7S2Yut5NWu6H3B+nDKailK7DuMwwzHLoF5XhJyhK7TXS/DykI0Ty6dQGSTFeanWcdas8GKvR+I2DwTpfMR8YZo1eczP4dpsRa257SnKPf49w7m33+bYO09pD/zRwS+gTgymhvm8Iscgclqvi9YH84TrC0L2bkI/enCTqGwXZOIzdD0b7JhMT6K2AtvoWLKh0BwnA6KGD0lwOt2PPgC/9lS8uQgX6G/p8YLgQmsXP0eFfu995yn05Av0WbZvynaH8tKPyxBPueHWv8FrHfjGOoOIDhBu18bxdBLXhytKVJ2ttLLQibUSrdnD4lq9qFSOzlA64MkkEyRscOdJKxZyDQJ7LOQnsur2ZiloJLoJ/Rs/c5ZksqXCxLpe99PEius7d/O3ypJhXrIgWr6LgXbSwZIXf7dVjntMoemgoj3CHxZO8RN9ET+phNLF04grG6D8J4Xxxvp1p4Pwe0cR230HFxb2NfKxVwMvp5eyM+KdJVWwHmsAw35lZyjO6htGDcKN8lCYDIyNyWkabfw8QQmjtk1O8pOurH7m9rV3zg12R8hi1f6iGVfgEzfDpO+wdJvcHxZJFI/PQycniaZSB/xS8XP+tFffDZX0pubguBQAs79jpIvFLwxPeOE+dcg/LITDYUjZREY/0TmjHG154whOGcMwTljCM4ZQ3DOGIJzxhCcM4bgXAH+ASfGfrDDUK+UAAAAAElFTkSuQmCC)\n",
        "\n",
        "여기서 $v$는 1 X dec hid dim 행렬이므로, dec hid dim X src len tensor인 $E_t$와 행렬곱을 하면  1 X src len 행렬로 변환이 가능합니다. 여기서 형태상 $v$를 가중치라고 볼 수 있는데,이는 우리가 source sentence에서 각 토큰에 얼마나 집중해야 하는지를 나타낼 수 있습니다. 처음에는 random으로 시작되지만, 역전파 알고리즘이 진행되며 update됩니다. 이 부분이 구현된 곳이 주석에 표시된 체크포인트 (2)이고 공식 문서에 따르면 이를 linear layer로 구현했기에, 코드에서는 행렬 식으로 계산한 것이 아니라 energy를 linear layer에 넣어 계산했습니다.\n",
        "\n",
        "마지막으로, attention vector는 $\\hat a_t$에 softmax를 취해 얻어진 $a_t$ 입니다. 주석에 있는 체크포인트 (3)이 이에 해당하며, 식은 아래와 같습니다.\n",
        "\n",
        "![image.png](data:image/png;base64,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)\n",
        "\n"
      ],
      "metadata": {
        "id": "uqKylU4Mo5yY"
      }
    },
    {
      "cell_type": "code",
      "source": [
        "class Attention(nn.Module):\n",
        "    def __init__(self, enc_hid_dim, dec_hid_dim):\n",
        "        super().__init__()\n",
        "        \n",
        "        self.attn = nn.Linear((enc_hid_dim * 2) + dec_hid_dim, dec_hid_dim)\n",
        "        self.v = nn.Linear(dec_hid_dim, 1, bias = False)\n",
        "        \n",
        "    def forward(self, hidden, encoder_outputs):\n",
        "        \n",
        "        #hidden = [batch size, dec hid dim]\n",
        "        #encoder_outputs = [src len, batch size, enc hid dim * 2]\n",
        "        \n",
        "        batch_size = encoder_outputs.shape[1]\n",
        "        src_len = encoder_outputs.shape[0]\n",
        "        \n",
        "        #repeat decoder hidden state src_len times\n",
        "        hidden = hidden.unsqueeze(1).repeat(1, src_len, 1)\n",
        "        \n",
        "        encoder_outputs = encoder_outputs.permute(1, 0, 2)\n",
        "        \n",
        "        #hidden = [batch size, src len, dec hid dim]\n",
        "        #encoder_outputs = [batch size, src len, enc hid dim * 2]\n",
        "        \n",
        "        energy = torch.tanh(self.attn(torch.cat((hidden, encoder_outputs), dim = 2))) #....(1)\n",
        "        \n",
        "        #energy = [batch size, src len, dec hid dim]\n",
        "\n",
        "        attention = self.v(energy).squeeze(2) #.........(2)\n",
        "        \n",
        "        #attention= [batch size, src len]\n",
        "        \n",
        "        return F.softmax(attention, dim=1) #------------(3)"
      ],
      "metadata": {
        "id": "wlFiRGjvgKR9"
      },
      "execution_count": 12,
      "outputs": []
    },
    {
      "cell_type": "markdown",
      "source": [
        "# Decoder\n",
        "디코더의 입력은 attention, 인코더와 동일합니다.\n",
        "\n",
        "우선 디코더 연산에는 이전 hidden state인 $s_{t-1}$, 인코더의 모든 hidden state를 담은 $H$, attention vector $a_t$가 필요합니다. 디코더에서는 가중치 벡터 $w_t$를 계산하기 위해 아래와 같은 식을 계산합니다. 이 식은 코드 주석상에 있는 체크포인트 (1)에 해당합니다.\n",
        "\n",
        "![image.png](data:image/png;base64,iVBORw0KGgoAAAANSUhEUgAAAG4AAAAhCAYAAAA4VZ5CAAAAAXNSR0IArs4c6QAAAARnQU1BAACxjwv8YQUAAAAJcEhZcwAADsMAAA7DAcdvqGQAAAQTSURBVGhD7ZlfaFtVHMe/ysAxsIKY4sPCyBoVeiHYDFdyCZghW6ZWH3SGgc2kMw8LreIWtqaKq2WzFrQ6JAXZSsGOga2Vmg4lEaEBx81D6Z0MM6i94rY7mORCoXlqno6/m3urybAzLH+WA+eTh3PP73Du/V2+9/f7nXPyECMg4I6H7VbAGUI4ThHCcYoQjlOEcJwihOMUsR2oAf1yHEPfqFjNajAcbsjPtOPRwBDOPafi7U/TyK8o0AwH3L6n0L47jC/OBOGw59aMKZygBm7MsDddLuYaSrF122SxzBJ7yf5ygi1v2KY6IlJljRg5BQq1QZ8XbZbJ4qaGrAE4/F5Ij9i2OiKEq4kitGsL1MrY01Eh2z+CeiU3GqBbs4TTkRmLIj5wFN3RWeqZFJGbiqL3bAYG/dKxbuzuHke2WBpsIgWo5+PoPTWK8VNHER2bxOT5BeSq8kND7go1ji5IHeXybAoawD5P3apaBU1ZnBiXoxg0BnDu6SSePaJhbHEKoV0qJroPIdU7h7l3JOiX3sOBD4v2mD3xXvyVwfiXKZK8CjxhjB2W7E45OhZih/AxYrh0JgT3Dg0XjxzA8FoMc9/1w/t/oXJzFr374lB2eSE7t9tGkw3oV1TonVXe534oVboGs/rDNFP0PEudpGLdn2S3TGPuAuuhoj6Ytkv6nSQ71qBCvhXr6UHmcvWwz5Y2H2otKPZ+orBq3Fj/+TTNd7G+b0tv9C/2gqXa+9wPTUmV7pfC8G3L4vs5KuIvdMFJNn1lGTkEIXvs2nBHx/WyQq7PR/H8+xlKZI2C0vf8LKU5H+RO+6HXVaQohO+uS//tC6X6pYvUyjS/3TLZNLq+mWyz24ZTyC0jTS854jFlK+APNQ34R9D5pDWeW1pE0B+xX9Qab3MPVK7Uyqk5VRrQyQUc3gNph2XRr2XoYwog7NlA9usMdr4VoI9sK180qPPUdPrgbXJ9K2FHXsOx0srrbFoze6tsOkxp841puiLWFtnpEzPslplX1hSWONnH9lOq2R8ZZIlfKndH9SPPkv3kw0eLVjpbpzT5GvXDF9hvKzOsz9yX3cuXB7R/26SJJyfmynIYw0vtCDjzaPMfRPHHCahPBCHhMcjvRhDcuZmyJvFKj47YryMIbBlydeB2GvHIKPLeAEWTEy/6ipj5PIWCS0LogxGEzEi625cCRfrAJK7mV6H8bm7UzBOTIPq/CsE4O4TZFR3KVXPd7ITX34GDx6cQ6So9rb6U5Gsx8gvH6MunCLT7D5JW8qWcFtyAU43IpSEFJGz/aRQTzd/YldFKvlTSkicnbY/LcPyZREKV8aqvUeuy6mglX8oR/w5wijir5BQhHKcI4ThFCMcpQjhOEcJxihCOU4RwnCKE4xQhHKcI4bgE+BvJcKn0s7FrEwAAAABJRU5ErkJggg==)\n",
        "\n",
        "t번째 히든스테이트 $s_t$를 계산하기 위해, 이전 히든스테이트 $s_{t-1}$과 입력된 벡터의 t번째 요소($y_t$)를 임베딩한 $d(y_t)$를 활용하며 이에 대한 식은 아래와 같고 이는 코드 주석에 표시된 체크포인트 (2)와 같습니다.\n",
        "\n",
        "\n",
        "![image.png](data:image/png;base64,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)\n",
        "\n",
        "이제, t번째에서 구한 $d(y_t), w_t, s_t$를 linear layer인 $f$에 넣어 다음 단어(t+1번째 단어)를 예측합니다. t+1번째 단어는 $\\hat{y}_{t+1}$로 표현되며, 식은 아래와 같고, 이는 코드 주석에 표시된 체크포인트 (3)에 해당합니다.\n",
        "\n",
        "![image.png](data:image/png;base64,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)"
      ],
      "metadata": {
        "id": "jccUP5TMo9hO"
      }
    },
    {
      "cell_type": "code",
      "source": [
        "class Decoder(nn.Module):\n",
        "    def __init__(self, output_dim, emb_dim, enc_hid_dim, dec_hid_dim, dropout, attention):\n",
        "        super().__init__()\n",
        "\n",
        "        self.output_dim = output_dim\n",
        "        self.attention = attention\n",
        "        \n",
        "        self.embedding = nn.Embedding(output_dim, emb_dim)\n",
        "        \n",
        "        self.rnn = nn.GRU((enc_hid_dim * 2) + emb_dim, dec_hid_dim)\n",
        "        \n",
        "        self.fc_out = nn.Linear((enc_hid_dim * 2) + dec_hid_dim + emb_dim, output_dim)\n",
        "        \n",
        "        self.dropout = nn.Dropout(dropout)\n",
        "        \n",
        "    def forward(self, input, hidden, encoder_outputs):\n",
        "             \n",
        "        #input = [batch size]\n",
        "        #hidden = [batch size, dec hid dim]\n",
        "        #encoder_outputs = [src len, batch size, enc hid dim * 2]\n",
        "        \n",
        "        input = input.unsqueeze(0)\n",
        "        \n",
        "        #input = [1, batch size]\n",
        "        \n",
        "        embedded = self.dropout(self.embedding(input))\n",
        "        \n",
        "        #embedded = [1, batch size, emb dim]\n",
        "        \n",
        "        a = self.attention(hidden, encoder_outputs) #.........(1)\n",
        "                \n",
        "        #a = [batch size, src len]\n",
        "        \n",
        "        a = a.unsqueeze(1)\n",
        "        \n",
        "        #a = [batch size, 1, src len]\n",
        "        \n",
        "        encoder_outputs = encoder_outputs.permute(1, 0, 2)\n",
        "        \n",
        "        #encoder_outputs = [batch size, src len, enc hid dim * 2]\n",
        "        \n",
        "        weighted = torch.bmm(a, encoder_outputs)\n",
        "        \n",
        "        #weighted = [batch size, 1, enc hid dim * 2]\n",
        "        \n",
        "        weighted = weighted.permute(1, 0, 2)\n",
        "        \n",
        "        #weighted = [1, batch size, enc hid dim * 2]\n",
        "        \n",
        "        rnn_input = torch.cat((embedded, weighted), dim = 2)\n",
        "        \n",
        "        #rnn_input = [1, batch size, (enc hid dim * 2) + emb dim]\n",
        "            \n",
        "        output, hidden = self.rnn(rnn_input, hidden.unsqueeze(0)) #.........(2)\n",
        "        \n",
        "        #output = [seq len, batch size, dec hid dim * n directions]\n",
        "        #hidden = [n layers * n directions, batch size, dec hid dim]\n",
        "        \n",
        "        #seq len, n layers and n directions will always be 1 in this decoder, therefore:\n",
        "        #output = [1, batch size, dec hid dim]\n",
        "        #hidden = [1, batch size, dec hid dim]\n",
        "        #this also means that output == hidden\n",
        "        assert (output == hidden).all()\n",
        "        \n",
        "        embedded = embedded.squeeze(0)\n",
        "        output = output.squeeze(0)\n",
        "        weighted = weighted.squeeze(0)\n",
        "        \n",
        "        prediction = self.fc_out(torch.cat((output, weighted, embedded), dim = 1))#.......(3)\n",
        "        \n",
        "        #prediction = [batch size, output dim]\n",
        "        return prediction, hidden.squeeze(0)\n"
      ],
      "metadata": {
        "id": "rh6J7D5tgrxF"
      },
      "execution_count": 13,
      "outputs": []
    },
    {
      "cell_type": "markdown",
      "source": [
        "# Sequence to Sequence 모델\n",
        "앞서 설명한 것을 모두 받아, 각 네트워크를 역할에 맞게 연결해 모델을 완성하는 코드입니다.\n"
      ],
      "metadata": {
        "id": "ADBsIq6XpAkS"
      }
    },
    {
      "cell_type": "code",
      "source": [
        "class Seq2Seq(nn.Module):\n",
        "    def __init__(self, encoder, decoder, device):\n",
        "        super().__init__()\n",
        "        \n",
        "        self.encoder = encoder\n",
        "        self.decoder = decoder\n",
        "        self.device = device\n",
        "        \n",
        "    def forward(self, src, trg, teacher_forcing_ratio = 0.5):\n",
        "        \n",
        "        #src = [src len, batch size]\n",
        "        #trg = [trg len, batch size]\n",
        "        #teacher_forcing_ratio is probability to use teacher forcing\n",
        "        #e.g. if teacher_forcing_ratio is 0.75 we use teacher forcing 75% of the time\n",
        "        \n",
        "        batch_size = src.shape[1]\n",
        "        trg_len = trg.shape[0]\n",
        "        trg_vocab_size = self.decoder.output_dim\n",
        "        \n",
        "        #tensor to store decoder outputs\n",
        "        outputs = torch.zeros(trg_len, batch_size, trg_vocab_size).to(self.device)\n",
        "        \n",
        "        #encoder_outputs is all hidden states of the input sequence, back and forwards\n",
        "        #hidden is the final forward and backward hidden states, passed through a linear layer\n",
        "        encoder_outputs, hidden = self.encoder(src)\n",
        "                \n",
        "        #first input to the decoder is the <sos> tokens\n",
        "        input = trg[0,:]\n",
        "        \n",
        "        for t in range(1, trg_len):\n",
        "            \n",
        "            #insert input token embedding, previous hidden state and all encoder hidden states\n",
        "            #receive output tensor (predictions) and new hidden state\n",
        "            output, hidden = self.decoder(input, hidden, encoder_outputs)\n",
        "            \n",
        "            #place predictions in a tensor holding predictions for each token\n",
        "            outputs[t] = output\n",
        "            \n",
        "            #decide if we are going to use teacher forcing or not\n",
        "            teacher_force = random.random() < teacher_forcing_ratio\n",
        "            \n",
        "            #get the highest predicted token from our predictions\n",
        "            top1 = output.argmax(1) \n",
        "            \n",
        "            #if teacher forcing, use actual next token as next input\n",
        "            #if not, use predicted token\n",
        "            input = trg[t] if teacher_force else top1\n",
        "\n",
        "        return outputs"
      ],
      "metadata": {
        "id": "zZfvVTgQg4A1"
      },
      "execution_count": 14,
      "outputs": []
    },
    {
      "cell_type": "markdown",
      "source": [
        "# 파라미터 설정 및 인코더와 디코더 등 모델 선언"
      ],
      "metadata": {
        "id": "xVDrc6z9pIr5"
      }
    },
    {
      "cell_type": "code",
      "source": [
        "INPUT_DIM = len(SRC.vocab)\n",
        "OUTPUT_DIM = len(TRG.vocab)\n",
        "ENC_EMB_DIM = 256\n",
        "DEC_EMB_DIM = 256\n",
        "ENC_HID_DIM = 512\n",
        "DEC_HID_DIM = 512\n",
        "ENC_DROPOUT = 0.5\n",
        "DEC_DROPOUT = 0.5\n",
        "\n",
        "attn = Attention(ENC_HID_DIM, DEC_HID_DIM)\n",
        "enc = Encoder(INPUT_DIM, ENC_EMB_DIM, ENC_HID_DIM, DEC_HID_DIM, ENC_DROPOUT)\n",
        "dec = Decoder(OUTPUT_DIM, DEC_EMB_DIM, ENC_HID_DIM, DEC_HID_DIM, DEC_DROPOUT, attn)\n",
        "\n",
        "model = Seq2Seq(enc, dec, device).to(device)"
      ],
      "metadata": {
        "id": "KwGV5slpg6i-"
      },
      "execution_count": 15,
      "outputs": []
    },
    {
      "cell_type": "markdown",
      "source": [
        "# 가중치 초기화"
      ],
      "metadata": {
        "id": "h3cPl6TZpWtC"
      }
    },
    {
      "cell_type": "code",
      "source": [
        "def init_weights(m):\n",
        "    for name, param in m.named_parameters():\n",
        "        if 'weight' in name:\n",
        "            nn.init.normal_(param.data, mean=0, std=0.01)\n",
        "        else:\n",
        "            nn.init.constant_(param.data, 0)\n",
        "            \n",
        "model.apply(init_weights)"
      ],
      "metadata": {
        "colab": {
          "base_uri": "https://localhost:8080/"
        },
        "id": "gQRjXy9hg9VF",
        "outputId": "aa69b06e-7efb-41b5-ef06-e951dea8ed74"
      },
      "execution_count": 16,
      "outputs": [
        {
          "output_type": "execute_result",
          "data": {
            "text/plain": [
              "Seq2Seq(\n",
              "  (encoder): Encoder(\n",
              "    (embedding): Embedding(7853, 256)\n",
              "    (rnn): GRU(256, 512, bidirectional=True)\n",
              "    (fc): Linear(in_features=1024, out_features=512, bias=True)\n",
              "    (dropout): Dropout(p=0.5, inplace=False)\n",
              "  )\n",
              "  (decoder): Decoder(\n",
              "    (attention): Attention(\n",
              "      (attn): Linear(in_features=1536, out_features=512, bias=True)\n",
              "      (v): Linear(in_features=512, out_features=1, bias=False)\n",
              "    )\n",
              "    (embedding): Embedding(5893, 256)\n",
              "    (rnn): GRU(1280, 512)\n",
              "    (fc_out): Linear(in_features=1792, out_features=5893, bias=True)\n",
              "    (dropout): Dropout(p=0.5, inplace=False)\n",
              "  )\n",
              ")"
            ]
          },
          "metadata": {},
          "execution_count": 16
        }
      ]
    },
    {
      "cell_type": "markdown",
      "source": [
        "# train의 모수 count"
      ],
      "metadata": {
        "id": "f27kg-4YpZWb"
      }
    },
    {
      "cell_type": "code",
      "source": [
        "def count_parameters(model):\n",
        "    return sum(p.numel() for p in model.parameters() if p.requires_grad)\n",
        "\n",
        "print(f'The model has {count_parameters(model):,} trainable parameters')"
      ],
      "metadata": {
        "colab": {
          "base_uri": "https://localhost:8080/"
        },
        "id": "_asJgH9chCY9",
        "outputId": "7e060f2e-017b-46bc-aad6-1b24f1821ddc"
      },
      "execution_count": 17,
      "outputs": [
        {
          "output_type": "stream",
          "name": "stdout",
          "text": [
            "The model has 20,518,405 trainable parameters\n"
          ]
        }
      ]
    },
    {
      "cell_type": "markdown",
      "source": [
        "# Train"
      ],
      "metadata": {
        "id": "1ErVF7_HpoJi"
      }
    },
    {
      "cell_type": "code",
      "source": [
        "optimizer = optim.Adam(model.parameters())"
      ],
      "metadata": {
        "id": "-f3UX3s1hE2M"
      },
      "execution_count": 18,
      "outputs": []
    },
    {
      "cell_type": "code",
      "source": [
        "TRG_PAD_IDX = TRG.vocab.stoi[TRG.pad_token]\n",
        "\n",
        "criterion = nn.CrossEntropyLoss(ignore_index = TRG_PAD_IDX)"
      ],
      "metadata": {
        "id": "blVi0U7qhHFO"
      },
      "execution_count": 19,
      "outputs": []
    },
    {
      "cell_type": "code",
      "source": [
        "def train(model, iterator, optimizer, criterion, clip):\n",
        "    \n",
        "    model.train()\n",
        "    \n",
        "    epoch_loss = 0\n",
        "    \n",
        "    for i, batch in enumerate(iterator):\n",
        "        \n",
        "        src = batch.src\n",
        "        trg = batch.trg\n",
        "        \n",
        "        optimizer.zero_grad()\n",
        "        \n",
        "        output = model(src, trg)\n",
        "        \n",
        "        #trg = [trg len, batch size]\n",
        "        #output = [trg len, batch size, output dim]\n",
        "        \n",
        "        output_dim = output.shape[-1]\n",
        "        \n",
        "        output = output[1:].view(-1, output_dim)\n",
        "        trg = trg[1:].view(-1)\n",
        "        \n",
        "        #trg = [(trg len - 1) * batch size]\n",
        "        #output = [(trg len - 1) * batch size, output dim]\n",
        "        \n",
        "        loss = criterion(output, trg)\n",
        "        \n",
        "        loss.backward()\n",
        "        \n",
        "        torch.nn.utils.clip_grad_norm_(model.parameters(), clip)\n",
        "        \n",
        "        optimizer.step()\n",
        "        \n",
        "        epoch_loss += loss.item()\n",
        "        \n",
        "    return epoch_loss / len(iterator)"
      ],
      "metadata": {
        "id": "wUZRRl6QhIud"
      },
      "execution_count": 20,
      "outputs": []
    },
    {
      "cell_type": "code",
      "source": [
        "def evaluate(model, iterator, criterion):\n",
        "    \n",
        "    model.eval()\n",
        "    \n",
        "    epoch_loss = 0\n",
        "    \n",
        "    with torch.no_grad():\n",
        "    \n",
        "        for i, batch in enumerate(iterator):\n",
        "\n",
        "            src = batch.src\n",
        "            trg = batch.trg\n",
        "\n",
        "            output = model(src, trg, 0) #turn off teacher forcing\n",
        "\n",
        "            #trg = [trg len, batch size]\n",
        "            #output = [trg len, batch size, output dim]\n",
        "\n",
        "            output_dim = output.shape[-1]\n",
        "            \n",
        "            output = output[1:].view(-1, output_dim)\n",
        "            trg = trg[1:].view(-1)\n",
        "\n",
        "            #trg = [(trg len - 1) * batch size]\n",
        "            #output = [(trg len - 1) * batch size, output dim]\n",
        "\n",
        "            loss = criterion(output, trg)\n",
        "\n",
        "            epoch_loss += loss.item()\n",
        "        \n",
        "    return epoch_loss / len(iterator)"
      ],
      "metadata": {
        "id": "WM7GamkHhLw8"
      },
      "execution_count": 21,
      "outputs": []
    },
    {
      "cell_type": "code",
      "source": [
        "def epoch_time(start_time, end_time):\n",
        "    elapsed_time = end_time - start_time\n",
        "    elapsed_mins = int(elapsed_time / 60)\n",
        "    elapsed_secs = int(elapsed_time - (elapsed_mins * 60))\n",
        "    return elapsed_mins, elapsed_secs"
      ],
      "metadata": {
        "id": "YVcMvfs-hNqV"
      },
      "execution_count": 22,
      "outputs": []
    },
    {
      "cell_type": "markdown",
      "source": [
        "# 학습 시작\n",
        "\n",
        "재현됨과 더불어 loss가 올려진 코드보다 작음음\n",
        "\n"
      ],
      "metadata": {
        "id": "_gIeP7UcpvQh"
      }
    },
    {
      "cell_type": "code",
      "source": [
        "N_EPOCHS = 10\n",
        "CLIP = 1\n",
        "\n",
        "best_valid_loss = float('inf')\n",
        "\n",
        "for epoch in range(N_EPOCHS):\n",
        "    \n",
        "    start_time = time.time()\n",
        "    \n",
        "    train_loss = train(model, train_iterator, optimizer, criterion, CLIP)\n",
        "    valid_loss = evaluate(model, valid_iterator, criterion)\n",
        "    \n",
        "    end_time = time.time()\n",
        "    \n",
        "    epoch_mins, epoch_secs = epoch_time(start_time, end_time)\n",
        "    \n",
        "    if valid_loss < best_valid_loss:\n",
        "        best_valid_loss = valid_loss\n",
        "        torch.save(model.state_dict(), 'tut3-model.pt')\n",
        "    \n",
        "    print(f'Epoch: {epoch+1:02} | Time: {epoch_mins}m {epoch_secs}s')\n",
        "    print(f'\\tTrain Loss: {train_loss:.3f} | Train PPL: {math.exp(train_loss):7.3f}')\n",
        "    print(f'\\t Val. Loss: {valid_loss:.3f} |  Val. PPL: {math.exp(valid_loss):7.3f}')"
      ],
      "metadata": {
        "id": "I7iLjpw5hPnt",
        "colab": {
          "base_uri": "https://localhost:8080/"
        },
        "outputId": "eb349d3c-9cf5-49ad-eda0-d71be8a15945"
      },
      "execution_count": 24,
      "outputs": [
        {
          "output_type": "stream",
          "name": "stdout",
          "text": [
            "Epoch: 01 | Time: 1m 22s\n",
            "\tTrain Loss: 4.128 | Train PPL:  62.053\n",
            "\t Val. Loss: 4.591 |  Val. PPL:  98.572\n",
            "Epoch: 02 | Time: 1m 26s\n",
            "\tTrain Loss: 3.470 | Train PPL:  32.123\n",
            "\t Val. Loss: 3.742 |  Val. PPL:  42.191\n",
            "Epoch: 03 | Time: 1m 27s\n",
            "\tTrain Loss: 2.912 | Train PPL:  18.397\n",
            "\t Val. Loss: 3.412 |  Val. PPL:  30.321\n",
            "Epoch: 04 | Time: 1m 26s\n",
            "\tTrain Loss: 2.523 | Train PPL:  12.470\n",
            "\t Val. Loss: 3.303 |  Val. PPL:  27.187\n",
            "Epoch: 05 | Time: 1m 26s\n",
            "\tTrain Loss: 2.234 | Train PPL:   9.336\n",
            "\t Val. Loss: 3.235 |  Val. PPL:  25.411\n",
            "Epoch: 06 | Time: 1m 25s\n",
            "\tTrain Loss: 1.992 | Train PPL:   7.328\n",
            "\t Val. Loss: 3.134 |  Val. PPL:  22.965\n",
            "Epoch: 07 | Time: 1m 25s\n",
            "\tTrain Loss: 1.772 | Train PPL:   5.884\n",
            "\t Val. Loss: 3.182 |  Val. PPL:  24.085\n",
            "Epoch: 08 | Time: 1m 26s\n",
            "\tTrain Loss: 1.601 | Train PPL:   4.960\n",
            "\t Val. Loss: 3.204 |  Val. PPL:  24.639\n",
            "Epoch: 09 | Time: 1m 25s\n",
            "\tTrain Loss: 1.492 | Train PPL:   4.446\n",
            "\t Val. Loss: 3.315 |  Val. PPL:  27.512\n",
            "Epoch: 10 | Time: 1m 26s\n",
            "\tTrain Loss: 1.359 | Train PPL:   3.893\n",
            "\t Val. Loss: 3.347 |  Val. PPL:  28.423\n"
          ]
        }
      ]
    },
    {
      "cell_type": "markdown",
      "source": [
        "# 성능 평가"
      ],
      "metadata": {
        "id": "ESO847NCp01d"
      }
    },
    {
      "cell_type": "code",
      "source": [
        "model.load_state_dict(torch.load('tut3-model.pt'))\n",
        "\n",
        "test_loss = evaluate(model, test_iterator, criterion)\n",
        "\n",
        "print(f'| Test Loss: {test_loss:.3f} | Test PPL: {math.exp(test_loss):7.3f} |')"
      ],
      "metadata": {
        "colab": {
          "base_uri": "https://localhost:8080/"
        },
        "id": "s4zsjcdzhRj2",
        "outputId": "9be19d8c-35fd-4517-e3af-9f3cb073e50f"
      },
      "execution_count": 25,
      "outputs": [
        {
          "output_type": "stream",
          "name": "stdout",
          "text": [
            "| Test Loss: 3.159 | Test PPL:  23.554 |\n"
          ]
        }
      ]
    }
  ]
}